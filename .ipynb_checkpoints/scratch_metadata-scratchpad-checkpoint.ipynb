{
 "cells": [
  {
   "cell_type": "code",
   "execution_count": 1,
   "id": "2194292e-e215-485d-97bf-13ca0edfb5b2",
   "metadata": {},
   "outputs": [],
   "source": [
    "from datetime import datetime\n",
    "from pathlib import Path\n",
    "from zoneinfo import ZoneInfo\n",
    "\n",
    "from neuroconv.datainterfaces import TDTFiberPhotometryInterface\n",
    "from neuroconv.utils import dict_deep_update, load_dict_from_file\n",
    "\n",
    "import os\n",
    "import pandas as pd"
   ]
  },
  {
   "cell_type": "code",
   "execution_count": 2,
   "id": "f92c8d7b-2d17-4eef-af39-00c5c4c9fd00",
   "metadata": {},
   "outputs": [
    {
     "data": {
      "text/plain": [
       "DeepDict(\n",
       "{'NWBFile': {'session_description': '',\n",
       "  'identifier': '4bc62591-8092-4f7d-a8ea-d05fe87223f2',\n",
       "  'source_script': 'Created using NeuroConv v0.8.1',\n",
       "  'source_script_file_name': 'C:\\\\Users\\\\Nerissa\\\\anaconda3\\\\envs\\\\neuroconv\\\\Lib\\\\site-packages\\\\neuroconv\\\\basedatainterface.py',\n",
       "  'session_start_time': '2019-02-18T22:25:50.999999+00:00'}}\n",
       ")"
      ]
     },
     "execution_count": 2,
     "metadata": {},
     "output_type": "execute_result"
    }
   ],
   "source": [
    "# set up\n",
    "folder_path = 'D:\\\\photometry_nwb\\\\UCSF02 NAc Photometry\\\\Raw Data\\\\1 Intros\\\\V2210-190218-142548'\n",
    "LOCAL_PATH = Path(\".\") # Path to neuroconv\n",
    "interface = TDTFiberPhotometryInterface(folder_path=folder_path, verbose=False)\n",
    "metadata = interface.get_metadata()\n",
    "metadata"
   ]
  },
  {
   "cell_type": "code",
   "execution_count": 9,
   "id": "b5f748ae-806d-4736-8a7a-f10cb0880d61",
   "metadata": {},
   "outputs": [
    {
     "name": "stdout",
     "output_type": "stream",
     "text": [
      "DeepDict({'NWBFile': {'session_description': '', 'identifier': '4bc62591-8092-4f7d-a8ea-d05fe87223f2', 'source_script': 'Created using NeuroConv v0.8.1', 'source_script_file_name': 'C:\\\\Users\\\\Nerissa\\\\anaconda3\\\\envs\\\\neuroconv\\\\Lib\\\\site-packages\\\\neuroconv\\\\basedatainterface.py', 'session_start_time': '2019-02-18T22:25:50.999999+00:00'}, 'Ophys': {'FiberPhotometry': {'OpticalFibers': [{'name': 'optical_fiber', 'model': 'MFC_400/430-0.48_6.5mm_MF1.25_FLT', 'numerical_aperture': 0.48, 'core_diameter_in_um': 400.0}], 'ExcitationSources': [{'name': 'excitation_source_calcium_signal', 'model': 'Doric_Lenses_Connectorized_Single_LED_Blue_465', 'illumination_type': 'LED', 'excitation_wavelength_in_nm': 465.0}, {'name': 'excitation_source_red_control_signal', 'model': 'Doric_Lenses_Connectorized_Single_LED_Lime_560', 'illumination_type': 'LED', 'excitation_wavelength_in_nm': 560.0}], 'Photodetectors': [{'name': 'photodetector_green', 'model': 'NPM_2151', 'detector_type': 'photodiode', 'detected_wavelength_in_nm': 520.0}, {'name': 'photodetector_red', 'model': 'NPM_2151', 'detector_type': 'photodiode', 'detected_wavelength_in_nm': 630.0}], 'DichroicMirrors': [{'name': 'dichroic_mirror', 'model': 'FMC5_E1(460-490)_F1(500-540)_E2(550-580)_F2(600-680)_S'}], 'BandOpticalFilter': [{'name': '5 port Fluorescence Mini Cube (F1)', 'center_wavelength_in_nm': 520.0, 'bandwidth_in_nm': 40.0, 'filter_type': 'bandpass', 'model': 'FMC5_E1(460-490)_F1(500-540)_E2(550-580)_F2(600-680)_S'}, {'name': '5 port Fluorescence Mini Cube (F2)', 'center_wavelength_in_nm': 640.0, 'bandwidth_in_nm': 80.0, 'filter_type': 'bandpass', 'model': 'FMC5_E1(460-490)_F1(500-540)_E2(550-580)_F2(600-680)_S'}], 'Indicators': [{'name': 'NAcc_GCaMP_injection', 'description': 'AAV8-Syn-GCaMP6m-WPRE viral vector used to record Ca2+ fluctuations (1.00e+13, Vigene).', 'label': 'GCaMP6m', 'injection_location': 'NAcc shell', 'injection_coordinates_in_mm': [1.7, 1.2, -5.05]}, {'name': 'NAcc_tdTomato_injection', 'description': 'AAV8-CAG-tdTomato viral vector used as a static control (5.00e+12, Dr. Ed Boyden lab via UNC Vector Core).', 'label': 'tdTomato', 'injection_location': 'NAcc shell', 'injection_coordinates_in_mm': [1.7, 1.2, -5.05]}], 'FiberPhotometryTable': {'name': 'fiber_photometry_table', 'description': 'Fiber photometry system metadata table.', 'rows': [{'name': '0', 'location': 'NAcc', 'excitation_wavelength_in_nm': 465.0, 'emission_wavelength_in_nm': 525.0, 'indicator': 'NAcc_GCaMP_injection', 'optical_fiber': 'optical_fiber', 'excitation_source': 'excitation_source_calcium_signal', 'photodetector': 'photodetector_green', 'dichroic_mirror': 'dichroic_mirror'}]}, 'FiberPhotometryResponseSeries': [{'name': 'calcium_signal', 'description': 'The fluorescence from the calcium signal.', 'stream_name': 'Fi1r', 'unit': 'a.u.', 'fiber_photometry_table_region': [0], 'fiber_photometry_table_region_description': 'The region of the FiberPhotometryTable corresponding to the calcium signal.'}]}}})\n"
     ]
    }
   ],
   "source": [
    "# metadata active site\n",
    "\n",
    "fiber_photometry_metadata = {\n",
    "    \"Ophys\": {\n",
    "        \"FiberPhotometry\": {\n",
    "            \"OpticalFibers\": [\n",
    "                {\n",
    "                    \"name\": \"optical_fiber\",\n",
    "                    \"model\": \"MFC_400/430-0.48_6.5mm_MF1.25_FLT\",\n",
    "                    \"numerical_aperture\": 0.48,\n",
    "                    \"core_diameter_in_um\": 400.0\n",
    "                }\n",
    "            ],\n",
    "            \"ExcitationSources\": [\n",
    "                {\n",
    "                    \"name\": \"excitation_source_calcium_signal\",\n",
    "                    \"model\": \"Doric_Lenses_Connectorized_Single_LED_Blue_465\",\n",
    "                    \"illumination_type\": 'LED',\n",
    "                    \"excitation_wavelength_in_nm\": 465.0\n",
    "                },\n",
    "                {\n",
    "                    \"name\": \"excitation_source_red_control_signal\",\n",
    "                    \"model\": \"Doric_Lenses_Connectorized_Single_LED_Lime_560\",\n",
    "                    \"illumination_type\": 'LED',\n",
    "                    \"excitation_wavelength_in_nm\": 560.0\n",
    "                }\n",
    "            ],\n",
    "            \"Photodetectors\": [\n",
    "                {\n",
    "                    \"name\": \"photodetector_green\",\n",
    "                    \"model\": \"NPM_2151\",\n",
    "                    \"detector_type\": 'photodiode',\n",
    "                    \"detected_wavelength_in_nm\": 520.0\n",
    "                },\n",
    "                {\n",
    "                    \"name\": \"photodetector_red\",\n",
    "                    \"model\": \"NPM_2151\",\n",
    "                    \"detector_type\": 'photodiode',\n",
    "                    \"detected_wavelength_in_nm\": 630.0\n",
    "                }\n",
    "            ],\n",
    "            \"DichroicMirrors\": [\n",
    "                {\n",
    "                    \"name\": \"dichroic_mirror\",\n",
    "                    \"model\": \"FMC5_E1(460-490)_F1(500-540)_E2(550-580)_F2(600-680)_S\"\n",
    "                }\n",
    "            ],\n",
    "            \"BandOpticalFilter\":[\n",
    "                {\n",
    "                    \"name\":  \"5 port Fluorescence Mini Cube (F1)\",\n",
    "                    \"center_wavelength_in_nm\": 520.0,\n",
    "                    \"bandwidth_in_nm\": 40.0,\n",
    "                    \"filter_type\": \"bandpass\",\n",
    "                    \"model\": \"FMC5_E1(460-490)_F1(500-540)_E2(550-580)_F2(600-680)_S\"\n",
    "                },\n",
    "                {\n",
    "                    \"name\":  \"5 port Fluorescence Mini Cube (F2)\",\n",
    "                    \"center_wavelength_in_nm\": 640.0,\n",
    "                    \"bandwidth_in_nm\": 80.0,\n",
    "                    \"filter_type\": \"bandpass\",\n",
    "                    \"model\": \"FMC5_E1(460-490)_F1(500-540)_E2(550-580)_F2(600-680)_S\"\n",
    "                },  \n",
    "            ],\n",
    "            \"Indicators\": [\n",
    "                {\n",
    "                    \"name\": \"NAcc_GCaMP_injection\",\n",
    "                    \"description\": \"AAV8-Syn-GCaMP6m-WPRE viral vector used to record Ca2+ fluctuations (1.00e+13, Vigene).\",\n",
    "                    \"label\": \"GCaMP6m\",\n",
    "                    \"injection_location\": \"NAcc shell\",\n",
    "                    \"injection_coordinates_in_mm\": [1.7,1.2,-5.05],\n",
    "                },\n",
    "                {\n",
    "                    \"name\": \"NAcc_tdTomato_injection\",\n",
    "                    \"description\": \"AAV8-CAG-tdTomato viral vector used as a static control (5.00e+12, Dr. Ed Boyden lab via UNC Vector Core).\",\n",
    "                    \"label\": \"tdTomato\",\n",
    "                    \"injection_location\": \"NAcc shell\",\n",
    "                    \"injection_coordinates_in_mm\": [1.7,1.2,-5.05],\n",
    "                }\n",
    "            ],\n",
    "            \"FiberPhotometryTable\": {\n",
    "                \"name\": \"fiber_photometry_table\",\n",
    "                \"description\": \"Fiber photometry system metadata table.\",\n",
    "                \"rows\": [\n",
    "                    {\n",
    "                        \"name\": \"0\",\n",
    "                        \"location\": \"NAcc\",\n",
    "                        \"excitation_wavelength_in_nm\": 465.0,\n",
    "                        \"emission_wavelength_in_nm\": 525.0,\n",
    "                        \"indicator\": \"NAcc_GCaMP_injection\",\n",
    "                        \"optical_fiber\": \"optical_fiber\",\n",
    "                        \"excitation_source\": \"excitation_source_calcium_signal\",\n",
    "                        \"photodetector\": \"photodetector_green\",\n",
    "                        \"dichroic_mirror\": \"dichroic_mirror\"\n",
    "                    }\n",
    "                ]\n",
    "            },\n",
    "            \"FiberPhotometryResponseSeries\": [\n",
    "                {\n",
    "                    \"name\": \"all_TDT_data\",\n",
    "                    \"description\": \"Photometry recordings were conducted with TDT RZ5P acquisition system and Synapse software. Data is 4xn with row 0 corresponding to voltage data from GCaMP excitation LED, row 1 -> tdTomato LED, row 2 -> GCaMP response data, row 3 -> tdTomato response data.\",\n",
    "                    \"stream_name\": \"Fi1r\",\n",
    "                    \"unit\": \"a.u.\",\n",
    "                    \"fiber_photometry_table_region\": [0],\n",
    "                    \"fiber_photometry_table_region_description\": \"The region of the FiberPhotometryTable corresponding to the calcium signal.\"\n",
    "                }\n",
    "            ]\n",
    "        }\n",
    "    }\n",
    "}\n",
    "\n",
    "\n",
    "metadata = dict_deep_update(metadata, fiber_photometry_metadata)           \n",
    "print(metadata)"
   ]
  },
  {
   "cell_type": "code",
   "execution_count": 10,
   "id": "509cbcef-8bbd-407d-ada4-bf63fe1ce006",
   "metadata": {},
   "outputs": [],
   "source": [
    "# try to run conversion\n",
    "nwbfile_path =  'test_neuroconv2.nwb'\n",
    "interface.run_conversion(nwbfile_path=nwbfile_path, metadata=metadata, overwrite=True)"
   ]
  },
  {
   "cell_type": "code",
   "execution_count": null,
   "id": "abbf1692-a83c-4b26-8fcb-680b0e670afa",
   "metadata": {},
   "outputs": [],
   "source": []
  }
 ],
 "metadata": {
  "kernelspec": {
   "display_name": "Python 3 (ipykernel)",
   "language": "python",
   "name": "python3"
  },
  "language_info": {
   "codemirror_mode": {
    "name": "ipython",
    "version": 3
   },
   "file_extension": ".py",
   "mimetype": "text/x-python",
   "name": "python",
   "nbconvert_exporter": "python",
   "pygments_lexer": "ipython3",
   "version": "3.13.7"
  }
 },
 "nbformat": 4,
 "nbformat_minor": 5
}
